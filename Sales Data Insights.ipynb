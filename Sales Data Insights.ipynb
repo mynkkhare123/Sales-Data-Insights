{
 "cells": [
  {
   "cell_type": "code",
   "execution_count": 1,
   "id": "01443552-2fb7-4929-9988-c3afca86f39b",
   "metadata": {},
   "outputs": [],
   "source": [
    "import pandas as pd\n",
    "import numpy as np"
   ]
  },
  {
   "cell_type": "code",
   "execution_count": 2,
   "id": "af5d816d-4dc6-4464-83f0-c6ec7ef8b634",
   "metadata": {},
   "outputs": [],
   "source": [
    "# Load the dataset\n",
    "df = pd.read_excel('datset.xlsx', sheet_name='Sheet1')"
   ]
  },
  {
   "cell_type": "code",
   "execution_count": 7,
   "id": "806daf58-cdbe-47ce-9986-d6f366f9b005",
   "metadata": {},
   "outputs": [],
   "source": [
    "# Clean missing values\n",
    "# Handle CustomerName\n",
    "df['CustomerName'].fillna('Unknown', inplace = True)"
   ]
  },
  {
   "cell_type": "code",
   "execution_count": 8,
   "id": "2a6a9450-6998-441c-86e5-43a08f1bbd76",
   "metadata": {},
   "outputs": [],
   "source": [
    "# Fix TotalSales, UnitPrice, and Quantity where possible\n",
    "# Compute TotalSales where missing\n",
    "mask = df['TotalSales'].isna() & df['Quantity'].notna() & df['UnitPrice'].notna()\n",
    "df.loc[mask, 'TotalSales'] = df['Quantity'] * df['UnitPrice']"
   ]
  },
  {
   "cell_type": "code",
   "execution_count": 9,
   "id": "f610ad2f-c20d-4291-a675-1541585e301c",
   "metadata": {},
   "outputs": [],
   "source": [
    "# Compute UnitPrice where missing\n",
    "mask = df['UnitPrice'].isna() & df['TotalSales'].notna() & df['Quantity'].notna()\n",
    "df.loc[mask, 'UnitPrice'] = df['TotalSales'] / df['Quantity']"
   ]
  },
  {
   "cell_type": "code",
   "execution_count": 23,
   "id": "09d9846f-c108-4a15-8d64-89d29eb5e0a4",
   "metadata": {},
   "outputs": [],
   "source": [
    "# Compute Quantity where missing\n",
    "mask = df['Quantity'].isna() & df['TotalSales'].notna() & df['UnitPrice'].notna()\n",
    "df.loc[mask, 'Quantity'] = df['TotalSales'] / df['UnitPrice']"
   ]
  },
  {
   "cell_type": "code",
   "execution_count": 22,
   "id": "35dbced5-d6a0-4199-9d69-2e6b130a37aa",
   "metadata": {},
   "outputs": [
    {
     "data": {
      "text/plain": [
       "0     700.00\n",
       "1     300.00\n",
       "2      50.00\n",
       "3     720.00\n",
       "4     298.75\n",
       "5     100.00\n",
       "6     200.00\n",
       "7     680.00\n",
       "8     295.00\n",
       "9      55.00\n",
       "10    710.00\n",
       "11    210.00\n",
       "12     95.00\n",
       "13    700.00\n",
       "14    290.00\n",
       "15    195.00\n",
       "16    450.00\n",
       "17    200.00\n",
       "18    310.00\n",
       "19    700.00\n",
       "Name: UnitPrice, dtype: float64"
      ]
     },
     "execution_count": 22,
     "metadata": {},
     "output_type": "execute_result"
    }
   ],
   "source": [
    "# Fill remaining UnitPrice with product averages\n",
    "product_avg = df.groupby('Product')['UnitPrice'].transform('mean')\n",
    "df['UnitPrice'].fillna(product_avg, inplace=False)\n"
   ]
  },
  {
   "cell_type": "code",
   "execution_count": 21,
   "id": "8c2d361a-c8d7-4657-8aa8-0c65a259854f",
   "metadata": {},
   "outputs": [
    {
     "data": {
      "text/plain": [
       "0      2.0\n",
       "1      5.0\n",
       "2     10.0\n",
       "3      1.0\n",
       "4      3.0\n",
       "5      4.0\n",
       "6      2.0\n",
       "7      2.0\n",
       "8      4.0\n",
       "9      6.0\n",
       "10     1.0\n",
       "11     2.0\n",
       "12     3.0\n",
       "13     2.0\n",
       "14     1.0\n",
       "15     3.0\n",
       "16     2.0\n",
       "17     1.0\n",
       "18     2.0\n",
       "19     1.0\n",
       "Name: Quantity, dtype: float64"
      ]
     },
     "execution_count": 21,
     "metadata": {},
     "output_type": "execute_result"
    }
   ],
   "source": [
    "# Fill remaining Quantity with median\n",
    "df['Quantity'].fillna(df['Quantity'].median(), inplace=False)\n"
   ]
  },
  {
   "cell_type": "code",
   "execution_count": 24,
   "id": "6f43ba8b-1eb5-4ffa-a072-e8dae1224fa4",
   "metadata": {},
   "outputs": [],
   "source": [
    "# Recalculate TotalSales to ensure consistency\n",
    "df['TotalSales'] = df['Quantity'] * df['UnitPrice']"
   ]
  },
  {
   "cell_type": "code",
   "execution_count": 25,
   "id": "e32fafff-69a8-4413-94ee-10318d2e7f45",
   "metadata": {},
   "outputs": [],
   "source": [
    "# Task 1: Sum of sales by region\n",
    "sum_sales_region = df.groupby('Region')['TotalSales'].sum().reset_index()"
   ]
  },
  {
   "cell_type": "code",
   "execution_count": 26,
   "id": "8329baf7-ff1e-4be4-b8fd-09aed1cee6ec",
   "metadata": {},
   "outputs": [],
   "source": [
    "# Task 2: Average sales per product\n",
    "avg_sales_product = df.groupby('Product')['TotalSales'].mean().reset_index()"
   ]
  },
  {
   "cell_type": "code",
   "execution_count": 27,
   "id": "bd7a7590-c597-452d-86e8-2fde4744fcae",
   "metadata": {},
   "outputs": [],
   "source": [
    "# Task 3: Highest & lowest selling products (by revenue)\n",
    "total_sales_per_product = df.groupby('Product')['TotalSales'].sum()\n",
    "highest_product = total_sales_per_product.idxmax()\n",
    "lowest_product = total_sales_per_product.idxmin()"
   ]
  },
  {
   "cell_type": "code",
   "execution_count": 28,
   "id": "a7ad4c28-02e0-4e9d-9738-dc00a2988311",
   "metadata": {},
   "outputs": [],
   "source": [
    "# Task 4: NumPy calculations for numerical fields\n",
    "numerical_data = df[['Quantity', 'UnitPrice', 'TotalSales']]\n",
    "mean_values = np.mean(numerical_data, axis=0)\n",
    "median_values = np.median(numerical_data, axis=0)\n",
    "std_values = np.std(numerical_data, axis=0)"
   ]
  },
  {
   "cell_type": "code",
   "execution_count": 29,
   "id": "ab3539de-28bb-43b0-9086-006b136488e4",
   "metadata": {},
   "outputs": [
    {
     "name": "stdout",
     "output_type": "stream",
     "text": [
      "Sum of Sales by Region:\n",
      "  Region  TotalSales\n",
      "0   East     2520.00\n",
      "1  North     4661.25\n",
      "2  South     3830.00\n",
      "3   West     3785.00\n",
      "\n",
      "Average Sales per Product:\n",
      "        Product   TotalSales\n",
      "0    Headphones   415.000000\n",
      "1      Keyboard   342.500000\n",
      "2        Laptop  1048.333333\n",
      "3  Mobile Phone   897.250000\n",
      "4       Monitor   468.333333\n",
      "5   Smart Watch   200.000000\n",
      "6        Tablet   900.000000\n",
      "\n",
      "Highest Selling Product (Revenue): Laptop\n",
      "Lowest Selling Product (Revenue): Smart Watch\n",
      "\n",
      "Statistical Measures:\n",
      "Means:\n",
      " Quantity        2.8500\n",
      "UnitPrice     362.9375\n",
      "TotalSales    739.8125\n",
      "dtype: float64\n",
      "Medians:\n",
      " [  2.    296.875 660.   ]\n",
      "Standard Deviations:\n",
      " Quantity        2.127792\n",
      "UnitPrice     240.424519\n",
      "TotalSales    411.008720\n",
      "dtype: float64\n"
     ]
    }
   ],
   "source": [
    "\n",
    "# Display results\n",
    "print(\"Sum of Sales by Region:\")\n",
    "print(sum_sales_region)\n",
    "print(\"\\nAverage Sales per Product:\")\n",
    "print(avg_sales_product)\n",
    "print(f\"\\nHighest Selling Product (Revenue): {highest_product}\")\n",
    "print(f\"Lowest Selling Product (Revenue): {lowest_product}\")\n",
    "print(\"\\nStatistical Measures:\")\n",
    "print(\"Means:\\n\", mean_values)\n",
    "print(\"Medians:\\n\", median_values)\n",
    "print(\"Standard Deviations:\\n\", std_values)"
   ]
  },
  {
   "cell_type": "code",
   "execution_count": null,
   "id": "8fe53c98-890c-4040-b25e-504f178a3481",
   "metadata": {},
   "outputs": [],
   "source": []
  }
 ],
 "metadata": {
  "kernelspec": {
   "display_name": "Python [conda env:base] *",
   "language": "python",
   "name": "conda-base-py"
  },
  "language_info": {
   "codemirror_mode": {
    "name": "ipython",
    "version": 3
   },
   "file_extension": ".py",
   "mimetype": "text/x-python",
   "name": "python",
   "nbconvert_exporter": "python",
   "pygments_lexer": "ipython3",
   "version": "3.12.7"
  }
 },
 "nbformat": 4,
 "nbformat_minor": 5
}
